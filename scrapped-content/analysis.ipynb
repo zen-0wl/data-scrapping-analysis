{
 "cells": [
  {
   "cell_type": "code",
   "execution_count": 3,
   "metadata": {},
   "outputs": [],
   "source": [
    "import numpy as np \n",
    "from scipy import stats\n",
    "import pandas as pd\n",
    "import seaborn as sns"
   ]
  },
  {
   "cell_type": "markdown",
   "metadata": {},
   "source": [
    "<font color=\"#bdab98\" size=+1.0><b>Load and Read Dataset</b></font>"
   ]
  },
  {
   "cell_type": "code",
   "execution_count": 4,
   "metadata": {},
   "outputs": [
    {
     "name": "stdout",
     "output_type": "stream",
     "text": [
      "<class 'pandas.core.frame.DataFrame'>\n",
      "RangeIndex: 56 entries, 0 to 55\n",
      "Data columns (total 8 columns):\n",
      " #   Column               Non-Null Count  Dtype  \n",
      "---  ------               --------------  -----  \n",
      " 0   Unnamed: 0           55 non-null     float64\n",
      " 1   Country              56 non-null     object \n",
      " 2   %Africa              56 non-null     object \n",
      " 3   Africapopulation[4]  56 non-null     object \n",
      " 4   %growth              56 non-null     object \n",
      " 5   Officialfigure       56 non-null     object \n",
      " 6   Officialdate         55 non-null     object \n",
      " 7   Unnamed: 7           3 non-null      object \n",
      "dtypes: float64(1), object(7)\n",
      "memory usage: 3.6+ KB\n"
     ]
    },
    {
     "data": {
      "text/plain": [
       "None"
      ]
     },
     "metadata": {},
     "output_type": "display_data"
    },
    {
     "data": {
      "text/html": [
       "<div>\n",
       "<style scoped>\n",
       "    .dataframe tbody tr th:only-of-type {\n",
       "        vertical-align: middle;\n",
       "    }\n",
       "\n",
       "    .dataframe tbody tr th {\n",
       "        vertical-align: top;\n",
       "    }\n",
       "\n",
       "    .dataframe thead th {\n",
       "        text-align: right;\n",
       "    }\n",
       "</style>\n",
       "<table border=\"1\" class=\"dataframe\">\n",
       "  <thead>\n",
       "    <tr style=\"text-align: right;\">\n",
       "      <th></th>\n",
       "      <th>Unnamed: 0</th>\n",
       "      <th>Country</th>\n",
       "      <th>%Africa</th>\n",
       "      <th>Africapopulation[4]</th>\n",
       "      <th>%growth</th>\n",
       "      <th>Officialfigure</th>\n",
       "      <th>Officialdate</th>\n",
       "      <th>Unnamed: 7</th>\n",
       "    </tr>\n",
       "  </thead>\n",
       "  <tbody>\n",
       "    <tr>\n",
       "      <th>0</th>\n",
       "      <td>1.0</td>\n",
       "      <td>Nigeria</td>\n",
       "      <td>15.3%</td>\n",
       "      <td>223,804,632</td>\n",
       "      <td>2.4%</td>\n",
       "      <td>216,783,400</td>\n",
       "      <td>21 Mar 2022[5]</td>\n",
       "      <td>NaN</td>\n",
       "    </tr>\n",
       "    <tr>\n",
       "      <th>1</th>\n",
       "      <td>2.0</td>\n",
       "      <td>Ethiopia</td>\n",
       "      <td>8.7%</td>\n",
       "      <td>126,527,060</td>\n",
       "      <td>2.6%</td>\n",
       "      <td>105,163,988</td>\n",
       "      <td>1 Jul 2022[6]</td>\n",
       "      <td>NaN</td>\n",
       "    </tr>\n",
       "    <tr>\n",
       "      <th>2</th>\n",
       "      <td>3.0</td>\n",
       "      <td>Egypt</td>\n",
       "      <td>7.7%</td>\n",
       "      <td>111,942,661</td>\n",
       "      <td>1.6%</td>\n",
       "      <td>102,060,688</td>\n",
       "      <td>1 Jul 2021[7]</td>\n",
       "      <td>[a]</td>\n",
       "    </tr>\n",
       "    <tr>\n",
       "      <th>3</th>\n",
       "      <td>4.0</td>\n",
       "      <td>DR Congo</td>\n",
       "      <td>7.0%</td>\n",
       "      <td>102,262,809</td>\n",
       "      <td>3.3%</td>\n",
       "      <td>95,370,000</td>\n",
       "      <td>1 Jul 2019[8]</td>\n",
       "      <td>NaN</td>\n",
       "    </tr>\n",
       "    <tr>\n",
       "      <th>4</th>\n",
       "      <td>5.0</td>\n",
       "      <td>Tanzania</td>\n",
       "      <td>4.6%</td>\n",
       "      <td>67,438,106</td>\n",
       "      <td>3.0%</td>\n",
       "      <td>61,741,120</td>\n",
       "      <td>23 Aug 2022[9]</td>\n",
       "      <td>NaN</td>\n",
       "    </tr>\n",
       "  </tbody>\n",
       "</table>\n",
       "</div>"
      ],
      "text/plain": [
       "   Unnamed: 0   Country %Africa Africapopulation[4] %growth Officialfigure  \\\n",
       "0         1.0   Nigeria   15.3%         223,804,632    2.4%    216,783,400   \n",
       "1         2.0  Ethiopia    8.7%         126,527,060    2.6%    105,163,988   \n",
       "2         3.0     Egypt    7.7%         111,942,661    1.6%    102,060,688   \n",
       "3         4.0  DR Congo    7.0%         102,262,809    3.3%     95,370,000   \n",
       "4         5.0  Tanzania    4.6%          67,438,106    3.0%     61,741,120   \n",
       "\n",
       "     Officialdate Unnamed: 7  \n",
       "0  21 Mar 2022[5]        NaN  \n",
       "1   1 Jul 2022[6]        NaN  \n",
       "2   1 Jul 2021[7]        [a]  \n",
       "3   1 Jul 2019[8]        NaN  \n",
       "4  23 Aug 2022[9]        NaN  "
      ]
     },
     "metadata": {},
     "output_type": "display_data"
    }
   ],
   "source": [
    "data = pd.read_csv('african_countries_population.csv')\n",
    "\n",
    "display(data.info())\n",
    "display(data.head())"
   ]
  },
  {
   "cell_type": "markdown",
   "metadata": {},
   "source": [
    "<font color=\"#bdab98\" size=+1.0><b>Identify Null Values</b></font>"
   ]
  },
  {
   "cell_type": "code",
   "execution_count": 5,
   "metadata": {},
   "outputs": [
    {
     "name": "stdout",
     "output_type": "stream",
     "text": [
      "There are a total 3 missing values in the dataset.\n"
     ]
    }
   ],
   "source": [
    "print('There are a total {} missing values in the dataset.'.format(data.isnull().any().sum()))"
   ]
  },
  {
   "cell_type": "markdown",
   "metadata": {},
   "source": [
    "<font color=\"#bdab98\" size=+1.0><b>Identify Duplicates</b></font>"
   ]
  },
  {
   "cell_type": "code",
   "execution_count": 6,
   "metadata": {},
   "outputs": [
    {
     "name": "stdout",
     "output_type": "stream",
     "text": [
      "There are 0 duplicated rows in the dataset.\n",
      "Number of rows after dropping duplicates is 56.\n"
     ]
    }
   ],
   "source": [
    "print('There are {} duplicated rows in the dataset.'.format(data.duplicated().sum()))\n",
    "data.drop_duplicates(inplace=True)\n",
    "print('Number of rows after dropping duplicates is {}.'.format(data.shape[0]))"
   ]
  },
  {
   "cell_type": "markdown",
   "metadata": {},
   "source": [
    "<font color=\"#bdab98\" size=+1.0><b>Basic Analysis</b></font>"
   ]
  },
  {
   "cell_type": "code",
   "execution_count": 20,
   "metadata": {},
   "outputs": [
    {
     "name": "stdout",
     "output_type": "stream",
     "text": [
      "\n",
      "Basic Analysis:\n",
      "Total countries: 56\n",
      "Average Population: 52085169.35714286\n",
      "Maximum Population: 1458384742.0\n",
      "Minimum Population: 107660.0\n",
      "Countries with population growth rate above 3%:\n",
      "3     DR Congo\n",
      "11      Angola\n",
      "17       Niger\n",
      "19        Mali\n",
      "22        Chad\n",
      "23     Somalia\n",
      "Name: Country, dtype: object\n"
     ]
    }
   ],
   "source": [
    "import pandas as pd \n",
    "\n",
    "# read the data again for the current cell\n",
    "data = \"african_countries_population.csv\"\n",
    "\n",
    "# create a pandas dataframe\n",
    "df = pd.read_csv(data) \n",
    "\n",
    "# Remove commas and convert columns to numeric\n",
    "numeric_columns = [\"Africapopulation[4]\", \"%growth\"]\n",
    "for col in numeric_columns:\n",
    "    df[col] = df[col].str.replace(\",\", \"\").str.rstrip(\"%\").astype(float)\n",
    "\n",
    "# perform basic analysis on the dataframe\n",
    "print(\"\\nBasic Analysis:\")\n",
    "print(\"Total countries:\", df.shape[0])\n",
    "print(\"Average Population:\", df[\"Africapopulation[4]\"].mean())\n",
    "print(\"Maximum Population:\", df[\"Africapopulation[4]\"].max())\n",
    "print(\"Minimum Population:\", df[\"Africapopulation[4]\"].min())\n",
    "print(\"Countries with population growth rate above 3%:\")\n",
    "print(df[df[\"%growth\"] > 3][\"Country\"])\n"
   ]
  },
  {
   "cell_type": "markdown",
   "metadata": {},
   "source": [
    "<font color=\"#bdab98\" size=+1.0><b>Descriptive Statistics</b></font>"
   ]
  },
  {
   "cell_type": "code",
   "execution_count": 18,
   "metadata": {},
   "outputs": [
    {
     "name": "stdout",
     "output_type": "stream",
     "text": [
      "\n",
      "Descriptive Statistics:\n",
      "       Unnamed: 0  Africapopulation[4]    %growth\n",
      "count   55.000000         5.600000e+01  56.000000\n",
      "mean    28.018182         5.208517e+07   2.142857\n",
      "std     16.051412         1.951726e+08   0.771506\n",
      "min      1.000000         1.076600e+05   0.100000\n",
      "25%     14.500000         2.748714e+06   1.675000\n",
      "50%     28.000000         1.414265e+07   2.300000\n",
      "75%     41.500000         3.395351e+07   2.625000\n",
      "max     55.000000         1.458385e+09   3.800000\n",
      "\n",
      "Country with the Highest Population: Total\n",
      "Country with the Lowest Population: Seychelles\n",
      "\n",
      "Average Population Growth Rate: 2.142857142857143\n",
      "\n",
      "Countries with Population Growth Rate above 3%:\n",
      "3     DR Congo\n",
      "11      Angola\n",
      "17       Niger\n",
      "19        Mali\n",
      "22        Chad\n",
      "23     Somalia\n",
      "Name: Country, dtype: object\n"
     ]
    }
   ],
   "source": [
    "print(\"\\nDescriptive Statistics:\")\n",
    "print(df.describe())\n",
    "\n",
    "# Countries with highest and lowest population\n",
    "highest_population_country = df.loc[df[\"Africapopulation[4]\"].idxmax()][\"Country\"]\n",
    "lowest_population_country = df.loc[df[\"Africapopulation[4]\"].idxmin()][\"Country\"]\n",
    "print(\"\\nCountry with the Highest Population:\", highest_population_country)\n",
    "print(\"Country with the Lowest Population:\", lowest_population_country)\n",
    "\n",
    "# Average growth rate\n",
    "average_growth_rate = df[\"%growth\"].mean()\n",
    "print(\"\\nAverage Population Growth Rate:\", average_growth_rate)\n",
    "\n",
    "# Countries with high growth rate\n",
    "high_growth_rate_countries = df[df[\"%growth\"] > 3][\"Country\"]\n",
    "print(\"\\nCountries with Population Growth Rate above 3%:\")\n",
    "print(high_growth_rate_countries)"
   ]
  }
 ],
 "metadata": {
  "kernelspec": {
   "display_name": "Python 3",
   "language": "python",
   "name": "python3"
  },
  "language_info": {
   "codemirror_mode": {
    "name": "ipython",
    "version": 3
   },
   "file_extension": ".py",
   "mimetype": "text/x-python",
   "name": "python",
   "nbconvert_exporter": "python",
   "pygments_lexer": "ipython3",
   "version": "3.11.4"
  },
  "orig_nbformat": 4
 },
 "nbformat": 4,
 "nbformat_minor": 2
}
