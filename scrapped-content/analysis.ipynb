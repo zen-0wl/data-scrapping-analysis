{
 "cells": [
  {
   "cell_type": "code",
   "execution_count": 3,
   "metadata": {},
   "outputs": [],
   "source": [
    "import numpy as np \n",
    "from scipy import stats\n",
    "import pandas as pd\n",
    "import seaborn as sns"
   ]
  },
  {
   "cell_type": "markdown",
   "metadata": {},
   "source": [
    "<font color=\"#bdab98\" size=+1.0><b>Load and Read Dataset</b></font>"
   ]
  },
  {
   "cell_type": "code",
   "execution_count": 4,
   "metadata": {},
   "outputs": [
    {
     "name": "stdout",
     "output_type": "stream",
     "text": [
      "<class 'pandas.core.frame.DataFrame'>\n",
      "RangeIndex: 56 entries, 0 to 55\n",
      "Data columns (total 8 columns):\n",
      " #   Column               Non-Null Count  Dtype  \n",
      "---  ------               --------------  -----  \n",
      " 0   Unnamed: 0           55 non-null     float64\n",
      " 1   Country              56 non-null     object \n",
      " 2   %Africa              56 non-null     object \n",
      " 3   Africapopulation[4]  56 non-null     object \n",
      " 4   %growth              56 non-null     object \n",
      " 5   Officialfigure       56 non-null     object \n",
      " 6   Officialdate         55 non-null     object \n",
      " 7   Unnamed: 7           3 non-null      object \n",
      "dtypes: float64(1), object(7)\n",
      "memory usage: 3.6+ KB\n"
     ]
    },
    {
     "data": {
      "text/plain": [
       "None"
      ]
     },
     "metadata": {},
     "output_type": "display_data"
    },
    {
     "data": {
      "text/html": [
       "<div>\n",
       "<style scoped>\n",
       "    .dataframe tbody tr th:only-of-type {\n",
       "        vertical-align: middle;\n",
       "    }\n",
       "\n",
       "    .dataframe tbody tr th {\n",
       "        vertical-align: top;\n",
       "    }\n",
       "\n",
       "    .dataframe thead th {\n",
       "        text-align: right;\n",
       "    }\n",
       "</style>\n",
       "<table border=\"1\" class=\"dataframe\">\n",
       "  <thead>\n",
       "    <tr style=\"text-align: right;\">\n",
       "      <th></th>\n",
       "      <th>Unnamed: 0</th>\n",
       "      <th>Country</th>\n",
       "      <th>%Africa</th>\n",
       "      <th>Africapopulation[4]</th>\n",
       "      <th>%growth</th>\n",
       "      <th>Officialfigure</th>\n",
       "      <th>Officialdate</th>\n",
       "      <th>Unnamed: 7</th>\n",
       "    </tr>\n",
       "  </thead>\n",
       "  <tbody>\n",
       "    <tr>\n",
       "      <th>0</th>\n",
       "      <td>1.0</td>\n",
       "      <td>Nigeria</td>\n",
       "      <td>15.3%</td>\n",
       "      <td>223,804,632</td>\n",
       "      <td>2.4%</td>\n",
       "      <td>216,783,400</td>\n",
       "      <td>21 Mar 2022[5]</td>\n",
       "      <td>NaN</td>\n",
       "    </tr>\n",
       "    <tr>\n",
       "      <th>1</th>\n",
       "      <td>2.0</td>\n",
       "      <td>Ethiopia</td>\n",
       "      <td>8.7%</td>\n",
       "      <td>126,527,060</td>\n",
       "      <td>2.6%</td>\n",
       "      <td>105,163,988</td>\n",
       "      <td>1 Jul 2022[6]</td>\n",
       "      <td>NaN</td>\n",
       "    </tr>\n",
       "    <tr>\n",
       "      <th>2</th>\n",
       "      <td>3.0</td>\n",
       "      <td>Egypt</td>\n",
       "      <td>7.7%</td>\n",
       "      <td>111,942,661</td>\n",
       "      <td>1.6%</td>\n",
       "      <td>102,060,688</td>\n",
       "      <td>1 Jul 2021[7]</td>\n",
       "      <td>[a]</td>\n",
       "    </tr>\n",
       "    <tr>\n",
       "      <th>3</th>\n",
       "      <td>4.0</td>\n",
       "      <td>DR Congo</td>\n",
       "      <td>7.0%</td>\n",
       "      <td>102,262,809</td>\n",
       "      <td>3.3%</td>\n",
       "      <td>95,370,000</td>\n",
       "      <td>1 Jul 2019[8]</td>\n",
       "      <td>NaN</td>\n",
       "    </tr>\n",
       "    <tr>\n",
       "      <th>4</th>\n",
       "      <td>5.0</td>\n",
       "      <td>Tanzania</td>\n",
       "      <td>4.6%</td>\n",
       "      <td>67,438,106</td>\n",
       "      <td>3.0%</td>\n",
       "      <td>61,741,120</td>\n",
       "      <td>23 Aug 2022[9]</td>\n",
       "      <td>NaN</td>\n",
       "    </tr>\n",
       "  </tbody>\n",
       "</table>\n",
       "</div>"
      ],
      "text/plain": [
       "   Unnamed: 0   Country %Africa Africapopulation[4] %growth Officialfigure  \\\n",
       "0         1.0   Nigeria   15.3%         223,804,632    2.4%    216,783,400   \n",
       "1         2.0  Ethiopia    8.7%         126,527,060    2.6%    105,163,988   \n",
       "2         3.0     Egypt    7.7%         111,942,661    1.6%    102,060,688   \n",
       "3         4.0  DR Congo    7.0%         102,262,809    3.3%     95,370,000   \n",
       "4         5.0  Tanzania    4.6%          67,438,106    3.0%     61,741,120   \n",
       "\n",
       "     Officialdate Unnamed: 7  \n",
       "0  21 Mar 2022[5]        NaN  \n",
       "1   1 Jul 2022[6]        NaN  \n",
       "2   1 Jul 2021[7]        [a]  \n",
       "3   1 Jul 2019[8]        NaN  \n",
       "4  23 Aug 2022[9]        NaN  "
      ]
     },
     "metadata": {},
     "output_type": "display_data"
    }
   ],
   "source": [
    "data = pd.read_csv('african_countries_population.csv')\n",
    "\n",
    "display(data.info())\n",
    "display(data.head())"
   ]
  },
  {
   "cell_type": "markdown",
   "metadata": {},
   "source": [
    "<font color=\"#bdab98\" size=+1.0><b>Identify Null Values</b></font>"
   ]
  },
  {
   "cell_type": "code",
   "execution_count": 5,
   "metadata": {},
   "outputs": [
    {
     "name": "stdout",
     "output_type": "stream",
     "text": [
      "There are a total 3 missing values in the dataset.\n"
     ]
    }
   ],
   "source": [
    "print('There are a total {} missing values in the dataset.'.format(data.isnull().any().sum()))"
   ]
  },
  {
   "cell_type": "markdown",
   "metadata": {},
   "source": [
    "<font color=\"#bdab98\" size=+1.0><b>Identify Duplicates</b></font>"
   ]
  },
  {
   "cell_type": "code",
   "execution_count": 6,
   "metadata": {},
   "outputs": [
    {
     "name": "stdout",
     "output_type": "stream",
     "text": [
      "There are 0 duplicated rows in the dataset.\n",
      "Number of rows after dropping duplicates is 56.\n"
     ]
    }
   ],
   "source": [
    "print('There are {} duplicated rows in the dataset.'.format(data.duplicated().sum()))\n",
    "data.drop_duplicates(inplace=True)\n",
    "print('Number of rows after dropping duplicates is {}.'.format(data.shape[0]))"
   ]
  },
  {
   "cell_type": "markdown",
   "metadata": {},
   "source": [
    "<font color=\"#bdab98\" size=+1.0><b>Basic Analysis</b></font>"
   ]
  },
  {
   "cell_type": "code",
   "execution_count": 13,
   "metadata": {},
   "outputs": [
    {
     "name": "stdout",
     "output_type": "stream",
     "text": [
      "\n",
      "Basic Analysis:\n",
      "Total countries: 56\n",
      "Average Population: 52085169.35714286\n",
      "Maximum Population: 1458384742.0\n",
      "Minimum Population: 107660.0\n",
      "Countries with population growth rate above 3%:\n"
     ]
    },
    {
     "ename": "TypeError",
     "evalue": "Invalid comparison between dtype=float64 and str",
     "output_type": "error",
     "traceback": [
      "\u001b[1;31m---------------------------------------------------------------------------\u001b[0m",
      "\u001b[1;31mTypeError\u001b[0m                                 Traceback (most recent call last)",
      "Cell \u001b[1;32mIn[13], line 21\u001b[0m\n\u001b[0;32m     19\u001b[0m \u001b[39mprint\u001b[39m(\u001b[39m\"\u001b[39m\u001b[39mMinimum Population:\u001b[39m\u001b[39m\"\u001b[39m, df[\u001b[39m\"\u001b[39m\u001b[39mAfricapopulation[4]\u001b[39m\u001b[39m\"\u001b[39m]\u001b[39m.\u001b[39mmin())\n\u001b[0;32m     20\u001b[0m \u001b[39mprint\u001b[39m(\u001b[39m\"\u001b[39m\u001b[39mCountries with population growth rate above 3\u001b[39m\u001b[39m%\u001b[39m\u001b[39m:\u001b[39m\u001b[39m\"\u001b[39m)\n\u001b[1;32m---> 21\u001b[0m \u001b[39mprint\u001b[39m(df[df[\u001b[39m\"\u001b[39;49m\u001b[39m%g\u001b[39;49;00m\u001b[39mrowth\u001b[39;49m\u001b[39m\"\u001b[39;49m] \u001b[39m>\u001b[39;49m \u001b[39m\"\u001b[39;49m\u001b[39m3\u001b[39;49m\u001b[39m%\u001b[39;49m\u001b[39m\"\u001b[39;49m][\u001b[39m\"\u001b[39m\u001b[39mCountry\u001b[39m\u001b[39m\"\u001b[39m])\n",
      "File \u001b[1;32mc:\\Users\\zen\\AppData\\Local\\Programs\\Python\\Python311\\Lib\\site-packages\\pandas\\core\\ops\\common.py:81\u001b[0m, in \u001b[0;36m_unpack_zerodim_and_defer.<locals>.new_method\u001b[1;34m(self, other)\u001b[0m\n\u001b[0;32m     77\u001b[0m             \u001b[39mreturn\u001b[39;00m \u001b[39mNotImplemented\u001b[39m\n\u001b[0;32m     79\u001b[0m other \u001b[39m=\u001b[39m item_from_zerodim(other)\n\u001b[1;32m---> 81\u001b[0m \u001b[39mreturn\u001b[39;00m method(\u001b[39mself\u001b[39;49m, other)\n",
      "File \u001b[1;32mc:\\Users\\zen\\AppData\\Local\\Programs\\Python\\Python311\\Lib\\site-packages\\pandas\\core\\arraylike.py:56\u001b[0m, in \u001b[0;36mOpsMixin.__gt__\u001b[1;34m(self, other)\u001b[0m\n\u001b[0;32m     54\u001b[0m \u001b[39m@unpack_zerodim_and_defer\u001b[39m(\u001b[39m\"\u001b[39m\u001b[39m__gt__\u001b[39m\u001b[39m\"\u001b[39m)\n\u001b[0;32m     55\u001b[0m \u001b[39mdef\u001b[39;00m \u001b[39m__gt__\u001b[39m(\u001b[39mself\u001b[39m, other):\n\u001b[1;32m---> 56\u001b[0m     \u001b[39mreturn\u001b[39;00m \u001b[39mself\u001b[39;49m\u001b[39m.\u001b[39;49m_cmp_method(other, operator\u001b[39m.\u001b[39;49mgt)\n",
      "File \u001b[1;32mc:\\Users\\zen\\AppData\\Local\\Programs\\Python\\Python311\\Lib\\site-packages\\pandas\\core\\series.py:6096\u001b[0m, in \u001b[0;36mSeries._cmp_method\u001b[1;34m(self, other, op)\u001b[0m\n\u001b[0;32m   6093\u001b[0m rvalues \u001b[39m=\u001b[39m extract_array(other, extract_numpy\u001b[39m=\u001b[39m\u001b[39mTrue\u001b[39;00m, extract_range\u001b[39m=\u001b[39m\u001b[39mTrue\u001b[39;00m)\n\u001b[0;32m   6095\u001b[0m \u001b[39mwith\u001b[39;00m np\u001b[39m.\u001b[39merrstate(\u001b[39mall\u001b[39m\u001b[39m=\u001b[39m\u001b[39m\"\u001b[39m\u001b[39mignore\u001b[39m\u001b[39m\"\u001b[39m):\n\u001b[1;32m-> 6096\u001b[0m     res_values \u001b[39m=\u001b[39m ops\u001b[39m.\u001b[39;49mcomparison_op(lvalues, rvalues, op)\n\u001b[0;32m   6098\u001b[0m \u001b[39mreturn\u001b[39;00m \u001b[39mself\u001b[39m\u001b[39m.\u001b[39m_construct_result(res_values, name\u001b[39m=\u001b[39mres_name)\n",
      "File \u001b[1;32mc:\\Users\\zen\\AppData\\Local\\Programs\\Python\\Python311\\Lib\\site-packages\\pandas\\core\\ops\\array_ops.py:290\u001b[0m, in \u001b[0;36mcomparison_op\u001b[1;34m(left, right, op)\u001b[0m\n\u001b[0;32m    286\u001b[0m         res_values \u001b[39m=\u001b[39m np\u001b[39m.\u001b[39mzeros(lvalues\u001b[39m.\u001b[39mshape, dtype\u001b[39m=\u001b[39m\u001b[39mbool\u001b[39m)\n\u001b[0;32m    288\u001b[0m \u001b[39melif\u001b[39;00m is_numeric_v_string_like(lvalues, rvalues):\n\u001b[0;32m    289\u001b[0m     \u001b[39m# GH#36377 going through the numexpr path would incorrectly raise\u001b[39;00m\n\u001b[1;32m--> 290\u001b[0m     \u001b[39mreturn\u001b[39;00m invalid_comparison(lvalues, rvalues, op)\n\u001b[0;32m    292\u001b[0m \u001b[39melif\u001b[39;00m is_object_dtype(lvalues\u001b[39m.\u001b[39mdtype) \u001b[39mor\u001b[39;00m \u001b[39misinstance\u001b[39m(rvalues, \u001b[39mstr\u001b[39m):\n\u001b[0;32m    293\u001b[0m     res_values \u001b[39m=\u001b[39m comp_method_OBJECT_ARRAY(op, lvalues, rvalues)\n",
      "File \u001b[1;32mc:\\Users\\zen\\AppData\\Local\\Programs\\Python\\Python311\\Lib\\site-packages\\pandas\\core\\ops\\invalid.py:36\u001b[0m, in \u001b[0;36minvalid_comparison\u001b[1;34m(left, right, op)\u001b[0m\n\u001b[0;32m     34\u001b[0m \u001b[39melse\u001b[39;00m:\n\u001b[0;32m     35\u001b[0m     typ \u001b[39m=\u001b[39m \u001b[39mtype\u001b[39m(right)\u001b[39m.\u001b[39m\u001b[39m__name__\u001b[39m\n\u001b[1;32m---> 36\u001b[0m     \u001b[39mraise\u001b[39;00m \u001b[39mTypeError\u001b[39;00m(\u001b[39mf\u001b[39m\u001b[39m\"\u001b[39m\u001b[39mInvalid comparison between dtype=\u001b[39m\u001b[39m{\u001b[39;00mleft\u001b[39m.\u001b[39mdtype\u001b[39m}\u001b[39;00m\u001b[39m and \u001b[39m\u001b[39m{\u001b[39;00mtyp\u001b[39m}\u001b[39;00m\u001b[39m\"\u001b[39m)\n\u001b[0;32m     37\u001b[0m \u001b[39mreturn\u001b[39;00m res_values\n",
      "\u001b[1;31mTypeError\u001b[0m: Invalid comparison between dtype=float64 and str"
     ]
    }
   ],
   "source": [
    "import pandas as pd \n",
    "\n",
    "# read the data again for the current cell\n",
    "data = \"african_countries_population.csv\"\n",
    "\n",
    "# create a pandas dataframe\n",
    "df = pd.read_csv(data) \n",
    "\n",
    "# Remove commas and convert columns to numeric\n",
    "numeric_columns = [\"Africapopulation[4]\", \"%growth\"]\n",
    "for col in numeric_columns:\n",
    "    df[col] = df[col].str.replace(\",\", \"\").str.rstrip(\"%\").astype(float)\n",
    "\n",
    "# perform basic analysis on the dataframe\n",
    "print(\"\\nBasic Analysis:\")\n",
    "print(\"Total countries:\", df.shape[0])\n",
    "print(\"Average Population:\", df[\"Africapopulation[4]\"].mean())\n",
    "print(\"Maximum Population:\", df[\"Africapopulation[4]\"].max())\n",
    "print(\"Minimum Population:\", df[\"Africapopulation[4]\"].min())\n",
    "print(\"Countries with population growth rate above 3%:\")\n",
    "print(df[df[\"%growth\"] > \"3%\"][\"Country\"])"
   ]
  },
  {
   "cell_type": "markdown",
   "metadata": {},
   "source": [
    "<font color=\"#bdab98\" size=+1.0><b>Remove percentage signs and convert column to numerics</b></font>"
   ]
  },
  {
   "cell_type": "code",
   "execution_count": null,
   "metadata": {},
   "outputs": [],
   "source": []
  },
  {
   "cell_type": "markdown",
   "metadata": {},
   "source": [
    "<font color=\"#bdab98\" size=+1.0><b>Descriptive Statistics</b></font>"
   ]
  }
 ],
 "metadata": {
  "kernelspec": {
   "display_name": "Python 3",
   "language": "python",
   "name": "python3"
  },
  "language_info": {
   "codemirror_mode": {
    "name": "ipython",
    "version": 3
   },
   "file_extension": ".py",
   "mimetype": "text/x-python",
   "name": "python",
   "nbconvert_exporter": "python",
   "pygments_lexer": "ipython3",
   "version": "3.11.4"
  },
  "orig_nbformat": 4
 },
 "nbformat": 4,
 "nbformat_minor": 2
}
