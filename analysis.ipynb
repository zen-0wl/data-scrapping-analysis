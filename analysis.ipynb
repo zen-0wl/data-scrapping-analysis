{
 "cells": [
  {
   "cell_type": "code",
   "execution_count": 3,
   "metadata": {},
   "outputs": [],
   "source": [
    "import numpy as np \n",
    "from scipy import stats\n",
    "import pandas as pd\n",
    "import seaborn as sns"
   ]
  },
  {
   "cell_type": "markdown",
   "metadata": {},
   "source": [
    "<font color=\"#bdab98\" size=+1.0><b>Load and Read Dataset</b></font>"
   ]
  },
  {
   "cell_type": "code",
   "execution_count": 4,
   "metadata": {},
   "outputs": [
    {
     "name": "stdout",
     "output_type": "stream",
     "text": [
      "<class 'pandas.core.frame.DataFrame'>\n",
      "RangeIndex: 56 entries, 0 to 55\n",
      "Data columns (total 8 columns):\n",
      " #   Column               Non-Null Count  Dtype  \n",
      "---  ------               --------------  -----  \n",
      " 0   Unnamed: 0           55 non-null     float64\n",
      " 1   Country              56 non-null     object \n",
      " 2   %Africa              56 non-null     object \n",
      " 3   Africapopulation[4]  56 non-null     object \n",
      " 4   %growth              56 non-null     object \n",
      " 5   Officialfigure       56 non-null     object \n",
      " 6   Officialdate         55 non-null     object \n",
      " 7   Unnamed: 7           3 non-null      object \n",
      "dtypes: float64(1), object(7)\n",
      "memory usage: 3.6+ KB\n"
     ]
    },
    {
     "data": {
      "text/plain": [
       "None"
      ]
     },
     "metadata": {},
     "output_type": "display_data"
    },
    {
     "data": {
      "text/html": [
       "<div>\n",
       "<style scoped>\n",
       "    .dataframe tbody tr th:only-of-type {\n",
       "        vertical-align: middle;\n",
       "    }\n",
       "\n",
       "    .dataframe tbody tr th {\n",
       "        vertical-align: top;\n",
       "    }\n",
       "\n",
       "    .dataframe thead th {\n",
       "        text-align: right;\n",
       "    }\n",
       "</style>\n",
       "<table border=\"1\" class=\"dataframe\">\n",
       "  <thead>\n",
       "    <tr style=\"text-align: right;\">\n",
       "      <th></th>\n",
       "      <th>Unnamed: 0</th>\n",
       "      <th>Country</th>\n",
       "      <th>%Africa</th>\n",
       "      <th>Africapopulation[4]</th>\n",
       "      <th>%growth</th>\n",
       "      <th>Officialfigure</th>\n",
       "      <th>Officialdate</th>\n",
       "      <th>Unnamed: 7</th>\n",
       "    </tr>\n",
       "  </thead>\n",
       "  <tbody>\n",
       "    <tr>\n",
       "      <th>0</th>\n",
       "      <td>1.0</td>\n",
       "      <td>Nigeria</td>\n",
       "      <td>15.3%</td>\n",
       "      <td>223,804,632</td>\n",
       "      <td>2.4%</td>\n",
       "      <td>216,783,400</td>\n",
       "      <td>21 Mar 2022[5]</td>\n",
       "      <td>NaN</td>\n",
       "    </tr>\n",
       "    <tr>\n",
       "      <th>1</th>\n",
       "      <td>2.0</td>\n",
       "      <td>Ethiopia</td>\n",
       "      <td>8.7%</td>\n",
       "      <td>126,527,060</td>\n",
       "      <td>2.6%</td>\n",
       "      <td>105,163,988</td>\n",
       "      <td>1 Jul 2022[6]</td>\n",
       "      <td>NaN</td>\n",
       "    </tr>\n",
       "    <tr>\n",
       "      <th>2</th>\n",
       "      <td>3.0</td>\n",
       "      <td>Egypt</td>\n",
       "      <td>7.7%</td>\n",
       "      <td>111,942,661</td>\n",
       "      <td>1.6%</td>\n",
       "      <td>102,060,688</td>\n",
       "      <td>1 Jul 2021[7]</td>\n",
       "      <td>[a]</td>\n",
       "    </tr>\n",
       "    <tr>\n",
       "      <th>3</th>\n",
       "      <td>4.0</td>\n",
       "      <td>DR Congo</td>\n",
       "      <td>7.0%</td>\n",
       "      <td>102,262,809</td>\n",
       "      <td>3.3%</td>\n",
       "      <td>95,370,000</td>\n",
       "      <td>1 Jul 2019[8]</td>\n",
       "      <td>NaN</td>\n",
       "    </tr>\n",
       "    <tr>\n",
       "      <th>4</th>\n",
       "      <td>5.0</td>\n",
       "      <td>Tanzania</td>\n",
       "      <td>4.6%</td>\n",
       "      <td>67,438,106</td>\n",
       "      <td>3.0%</td>\n",
       "      <td>61,741,120</td>\n",
       "      <td>23 Aug 2022[9]</td>\n",
       "      <td>NaN</td>\n",
       "    </tr>\n",
       "  </tbody>\n",
       "</table>\n",
       "</div>"
      ],
      "text/plain": [
       "   Unnamed: 0   Country %Africa Africapopulation[4] %growth Officialfigure  \\\n",
       "0         1.0   Nigeria   15.3%         223,804,632    2.4%    216,783,400   \n",
       "1         2.0  Ethiopia    8.7%         126,527,060    2.6%    105,163,988   \n",
       "2         3.0     Egypt    7.7%         111,942,661    1.6%    102,060,688   \n",
       "3         4.0  DR Congo    7.0%         102,262,809    3.3%     95,370,000   \n",
       "4         5.0  Tanzania    4.6%          67,438,106    3.0%     61,741,120   \n",
       "\n",
       "     Officialdate Unnamed: 7  \n",
       "0  21 Mar 2022[5]        NaN  \n",
       "1   1 Jul 2022[6]        NaN  \n",
       "2   1 Jul 2021[7]        [a]  \n",
       "3   1 Jul 2019[8]        NaN  \n",
       "4  23 Aug 2022[9]        NaN  "
      ]
     },
     "metadata": {},
     "output_type": "display_data"
    }
   ],
   "source": [
    "data = pd.read_csv('african_countries_population.csv')\n",
    "\n",
    "display(data.info())\n",
    "display(data.head())"
   ]
  },
  {
   "cell_type": "markdown",
   "metadata": {},
   "source": [
    "<font color=\"#bdab98\" size=+1.0><b>Identify Null Values</b></font>"
   ]
  },
  {
   "cell_type": "code",
   "execution_count": 5,
   "metadata": {},
   "outputs": [
    {
     "name": "stdout",
     "output_type": "stream",
     "text": [
      "There are a total 3 missing values in the dataset.\n"
     ]
    }
   ],
   "source": [
    "print('There are a total {} missing values in the dataset.'.format(data.isnull().any().sum()))"
   ]
  },
  {
   "cell_type": "markdown",
   "metadata": {},
   "source": [
    "<font color=\"#bdab98\" size=+1.0><b>Identify Duplicates</b></font>"
   ]
  },
  {
   "cell_type": "code",
   "execution_count": 6,
   "metadata": {},
   "outputs": [
    {
     "name": "stdout",
     "output_type": "stream",
     "text": [
      "There are 0 duplicated rows in the dataset.\n",
      "Number of rows after dropping duplicates is 56.\n"
     ]
    }
   ],
   "source": [
    "print('There are {} duplicated rows in the dataset.'.format(data.duplicated().sum()))\n",
    "data.drop_duplicates(inplace=True)\n",
    "print('Number of rows after dropping duplicates is {}.'.format(data.shape[0]))"
   ]
  },
  {
   "cell_type": "markdown",
   "metadata": {},
   "source": []
  },
  {
   "cell_type": "code",
   "execution_count": null,
   "metadata": {},
   "outputs": [],
   "source": []
  }
 ],
 "metadata": {
  "kernelspec": {
   "display_name": "Python 3",
   "language": "python",
   "name": "python3"
  },
  "language_info": {
   "codemirror_mode": {
    "name": "ipython",
    "version": 3
   },
   "file_extension": ".py",
   "mimetype": "text/x-python",
   "name": "python",
   "nbconvert_exporter": "python",
   "pygments_lexer": "ipython3",
   "version": "3.11.4"
  },
  "orig_nbformat": 4
 },
 "nbformat": 4,
 "nbformat_minor": 2
}
